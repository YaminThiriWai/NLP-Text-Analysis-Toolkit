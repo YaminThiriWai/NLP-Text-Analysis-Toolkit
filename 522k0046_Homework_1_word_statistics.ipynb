{
  "nbformat": 4,
  "nbformat_minor": 0,
  "metadata": {
    "colab": {
      "provenance": []
    },
    "kernelspec": {
      "name": "python3",
      "display_name": "Python 3"
    },
    "language_info": {
      "name": "python"
    }
  },
  "cells": [
    {
      "cell_type": "markdown",
      "source": [
        "English:\n",
        "\n",
        "a) List K (eg K=1000) words with the highest frequency in a given corpus.\n",
        "\n",
        "b) in those K words, stop words are not counted\n",
        "\n",
        "Data:\n",
        "\n",
        "https://huggingface.co/datasets/reuters21578/tree/main/data"
      ],
      "metadata": {
        "id": "5IgnJjsdtm_k"
      }
    },
    {
      "cell_type": "code",
      "source": [
        "import re\n",
        "from collections import Counter\n",
        "from nltk.corpus import stopwords\n",
        "from nltk.tokenize import word_tokenize\n",
        "import nltk\n",
        "\n",
        "nltk.download('punkt')\n",
        "nltk.download('stopwords')"
      ],
      "metadata": {
        "colab": {
          "base_uri": "https://localhost:8080/"
        },
        "id": "c_itff4mwCpQ",
        "outputId": "174511fd-a226-487f-d27d-aef3a5af3847"
      },
      "execution_count": 14,
      "outputs": [
        {
          "output_type": "stream",
          "name": "stderr",
          "text": [
            "[nltk_data] Downloading package punkt to /root/nltk_data...\n",
            "[nltk_data]   Package punkt is already up-to-date!\n",
            "[nltk_data] Downloading package stopwords to /root/nltk_data...\n",
            "[nltk_data]   Package stopwords is already up-to-date!\n"
          ]
        },
        {
          "output_type": "execute_result",
          "data": {
            "text/plain": [
              "True"
            ]
          },
          "metadata": {},
          "execution_count": 14
        }
      ]
    },
    {
      "cell_type": "code",
      "execution_count": 15,
      "metadata": {
        "colab": {
          "base_uri": "https://localhost:8080/"
        },
        "id": "UbpRr_nmvjJb",
        "outputId": "a566a5fb-4425-4ee8-db46-3030ada6de44"
      },
      "outputs": [
        {
          "output_type": "stream",
          "name": "stdout",
          "text": [
            "[('fox', 5), ('quick', 2), ('lazy', 2), ('forest', 2), ('cunning', 2), ('second', 2), ('always', 2), ('brown', 1), ('jumps', 1), ('dog', 1)]\n"
          ]
        }
      ],
      "source": [
        "\n",
        "example_text = \"\"\"\n",
        "                The quick brown fox jumps over the lazy dog. Meanwhile, in another part of the forest, a less quick,\n",
        "                but more cunning fox devises a plan to catch a lazy bird. The first fox, unaware of the second fox's\n",
        "                schemes, continues to leap and bound through the woods, enjoying the simplicity of its pursuits.\n",
        "                On the other hand, the second fox, with a mind full of plots and plans, rarely finds the time to rest,\n",
        "                always thinking about the next meal. In the end, both foxes learn valuable lessons about life,\n",
        "                speed, and cunning. However, the birds in the forest, always watchful and ever nimble, manage to stay\n",
        "                one step ahead of both predators, proving that sometimes, being alert and aware is the best strategy\n",
        "                of all.\n",
        "              \"\"\"\n",
        "\n",
        "text = example_text.lower()\n",
        "text = re.sub(r'\\W', ' ', text)\n",
        "\n",
        "tokens = word_tokenize(text)\n",
        "\n",
        "stop_words = set(stopwords.words('english'))\n",
        "filtered_tokens = [word for word in tokens if word not in stop_words]\n",
        "\n",
        "\n",
        "word_counts = Counter(filtered_tokens)\n",
        "K = 10\n",
        "most_common_words = word_counts.most_common(K)\n",
        "\n",
        "print(most_common_words)\n"
      ]
    },
    {
      "cell_type": "code",
      "source": [
        "import re\n",
        "from collections import Counter\n",
        "from nltk.corpus import stopwords\n",
        "from nltk.tokenize import word_tokenize\n",
        "import nltk\n",
        "import os\n",
        "\n",
        "nltk.download('punkt')\n",
        "nltk.download('stopwords')"
      ],
      "metadata": {
        "colab": {
          "base_uri": "https://localhost:8080/"
        },
        "id": "bZ-QuE4g2bAb",
        "outputId": "adcba876-e041-4b2d-9198-cf7f18de27f5"
      },
      "execution_count": 16,
      "outputs": [
        {
          "output_type": "stream",
          "name": "stderr",
          "text": [
            "[nltk_data] Downloading package punkt to /root/nltk_data...\n",
            "[nltk_data]   Package punkt is already up-to-date!\n",
            "[nltk_data] Downloading package stopwords to /root/nltk_data...\n",
            "[nltk_data]   Package stopwords is already up-to-date!\n"
          ]
        },
        {
          "output_type": "execute_result",
          "data": {
            "text/plain": [
              "True"
            ]
          },
          "metadata": {},
          "execution_count": 16
        }
      ]
    },
    {
      "cell_type": "code",
      "source": [
        "from google.colab import drive\n",
        "\n",
        "drive.mount('/content/drive')\n"
      ],
      "metadata": {
        "colab": {
          "base_uri": "https://localhost:8080/"
        },
        "id": "MBHcg9aH3pwm",
        "outputId": "46d30bd3-3138-4cec-f8d3-9f8aeea3c62b"
      },
      "execution_count": 17,
      "outputs": [
        {
          "output_type": "stream",
          "name": "stdout",
          "text": [
            "Drive already mounted at /content/drive; to attempt to forcibly remount, call drive.mount(\"/content/drive\", force_remount=True).\n"
          ]
        }
      ]
    },
    {
      "cell_type": "code",
      "source": [
        "folder_path = '/content/drive/MyDrive/Deep Learning/NLP/reuter'"
      ],
      "metadata": {
        "id": "7Vq6sfw44G0L"
      },
      "execution_count": 18,
      "outputs": []
    },
    {
      "cell_type": "code",
      "source": [
        "\n",
        "all_texts = []\n",
        "\n",
        "for filename in os.listdir(folder_path):\n",
        "    file_path = os.path.join(folder_path, filename)\n",
        "    with open(file_path, 'r', encoding='utf-8') as file:\n",
        "        text = file.read().lower()\n",
        "        text = re.sub(r'\\W', ' ', text)\n",
        "        all_texts.append(text)\n",
        "\n",
        "\n",
        "combined_text = ' '.join(all_texts)\n",
        "\n",
        "tokens = word_tokenize(combined_text)\n",
        "\n",
        "\n",
        "stop_words = set(stopwords.words('english'))\n",
        "filtered_tokens = [word for word in tokens if word not in stop_words]\n",
        "\n",
        "\n",
        "word_counts = Counter(filtered_tokens)\n",
        "K = 1000\n",
        "most_common_words = word_counts.most_common(K)\n",
        "\n",
        "print(most_common_words)\n"
      ],
      "metadata": {
        "id": "m8cPW3IStqkE",
        "colab": {
          "base_uri": "https://localhost:8080/"
        },
        "outputId": "45f7b99d-d6ff-44a9-9c78-43d1344fccc5"
      },
      "execution_count": 19,
      "outputs": [
        {
          "output_type": "stream",
          "name": "stdout",
          "text": [
            "[('bgfact', 2643), ('food', 289), ('products', 289), ('capital', 288), ('us', 276), ('naturalresources', 265), ('agriculture', 263), ('landbounderies', 262), ('petroleum', 258), ('industries', 246), ('population', 244), ('exportcommodities', 232), ('exportpartners', 232), ('importcommodities', 232), ('importpartners', 232), ('memberof', 231), ('un', 196), ('japan', 186), ('islands', 183), ('machinery', 183), ('equipment', 179), ('upu', 176), ('unctad', 175), ('g', 175), ('goods', 166), ('wmo', 163), ('fish', 163), ('chemicals', 158), ('unesco', 158), ('textiles', 155), ('unido', 153), ('minister', 142), ('itu', 133), ('germany', 132), ('wipo', 132), ('imf', 127), ('icao', 127), ('ibrd', 125), ('oil', 124), ('ilo', 120), ('ioc', 120), ('uk', 119), ('processing', 116), ('france', 114), ('fao', 114), ('iron', 111), ('intelsat', 111), ('ida', 110), ('ifc', 110), ('ec', 107), ('lorcs', 106), ('wto', 106), ('interpol', 104), ('77', 103), ('ifad', 103), ('itemize', 102), ('nam', 100), ('gas', 98), ('ccc', 97), ('imo', 97), ('wcl', 93), ('timber', 92), ('coffee', 91), ('ore', 90), ('foodstuffs', 90), ('cotton', 89), ('copper', 88), ('natural', 86), ('south', 83), ('sugar', 83), ('consumer', 81), ('coal', 81), ('materials', 81), ('italy', 80), ('wftu', 78), ('gatt', 77), ('gold', 77), ('iaea', 76), ('countries', 76), ('icftu', 76), ('bank', 73), ('republic', 72), ('afdb', 71), ('rice', 70), ('mining', 70), ('tourism', 70), ('vegetables', 68), ('acp', 68), ('pca', 68), ('livestock', 67), ('netherlands', 64), ('corn', 64), ('transport', 64), ('china', 63), ('guinea', 63), ('clothing', 63), ('saint', 61), ('central', 60), ('island', 60), ('self', 59), ('steel', 58), ('cement', 57), ('australia', 56), ('sufficient', 56), ('cattle', 55), ('zinc', 55), ('construction', 55), ('fuels', 55), ('russia', 55), ('new', 54), ('lead', 54), ('begin', 54), ('end', 54), ('c', 54), ('africa', 53), ('wheat', 53), ('bananas', 53), ('potatoes', 52), ('manubgfactured', 52), ('finance', 51), ('eca', 50), ('grain', 50), ('iso', 50), ('beverages', 50), ('korea', 49), ('none', 49), ('oic', 48), ('tobacco', 48), ('oau', 48), ('western', 47), ('agricultural', 47), ('president', 46), ('singapore', 45), ('spain', 45), ('fruits', 45), ('wood', 44), ('escap', 43), ('meat', 43), ('fishing', 43), ('brazil', 42), ('bauxite', 42), ('india', 41), ('crude', 41), ('production', 41), ('united', 41), ('former', 41), ('salt', 41), ('idb', 41), ('untac', 41), ('acct', 41), ('saudi', 40), ('exchange', 40), ('unhcr', 40), ('fruit', 40), ('cocoa', 39), ('small', 39), ('hong', 38), ('arabia', 38), ('metals', 38), ('vehicles', 38), ('raw', 38), ('canada', 37), ('kong', 37), ('nickel', 37), ('prime', 37), ('oas', 37), ('metal', 36), ('europe', 36), ('uranium', 36), ('copra', 35), ('asdb', 35), ('phosphates', 35), ('inmarsat', 35), ('manubgfactures', 35), ('belgium', 34), ('citrus', 34), ('sugarcane', 34), ('international', 33), ('dairy', 33), ('poultry', 33), ('icc', 33), ('rubber', 32), ('tin', 32), ('crops', 32), ('iom', 32), ('beef', 32), ('austria', 31), ('french', 31), ('fuel', 31), ('silver', 31), ('transportation', 31), ('thailand', 30), ('turkey', 30), ('palm', 30), ('governor', 30), ('diamonds', 30), ('caricom', 30), ('na', 30), ('ag', 30), ('principal', 30), ('refining', 30), ('nigeria', 29), ('hydropower', 29), ('eclac', 29), ('manganese', 29), ('unprofor', 29), ('ukraine', 29), ('catch', 29), ('samoa', 28), ('virgin', 28), ('poland', 28), ('switzerland', 28), ('building', 28), ('unikom', 28), ('zc', 28), ('argentina', 27), ('light', 27), ('sheep', 27), ('coconuts', 27), ('motor', 27), ('algeria', 26), ('hungary', 26), ('mexico', 26), ('taiwan', 26), ('venezuela', 26), ('spc', 26), ('ece', 25), ('sorghum', 25), ('trade', 25), ('industrial', 25), ('ce', 25), ('parts', 25), ('cassava', 25), ('unosom', 25), ('csce', 25), ('limestone', 25), ('greece', 24), ('guatemala', 24), ('portugal', 24), ('trinidad', 24), ('tobago', 24), ('de', 24), ('al', 24), ('tea', 24), ('states', 24), ('opanal', 24), ('beets', 24), ('potential', 24), ('electronics', 24), ('cameroon', 23), ('african', 23), ('iran', 23), ('israel', 23), ('malaysia', 23), ('norway', 23), ('wool', 23), ('stock', 23), ('nz', 23), ('fz', 23), ('egypt', 22), ('jordan', 22), ('kenya', 22), ('pakistan', 22), ('sudan', 22), ('oecd', 22), ('paper', 22), ('uzbekistan', 22), ('cote', 22), ('ivoire', 22), ('colombia', 21), ('denmark', 21), ('fiji', 21), ('luxembourg', 21), ('mali', 21), ('zambia', 21), ('general', 21), ('ii', 21), ('handicrafts', 21), ('animals', 21), ('deposits', 21), ('iadb', 21), ('ebrd', 21), ('iraq', 20), ('niger', 20), ('romania', 20), ('senegal', 20), ('sweden', 20), ('tanzania', 20), ('barley', 20), ('council', 20), ('nacc', 20), ('unavem', 20), ('administered', 20), ('beans', 20), ('minerals', 20), ('animal', 20), ('kazakhstan', 20), ('afghanistan', 19), ('angola', 19), ('bolivia', 19), ('bulgaria', 19), ('burkina', 19), ('chad', 19), ('costa', 19), ('rica', 19), ('el', 19), ('salvador', 19), ('indonesia', 19), ('libya', 19), ('zealand', 19), ('peru', 19), ('uganda', 19), ('west', 19), ('zaire', 19), ('coconut', 19), ('w', 19), ('economy', 19), ('major', 19), ('24', 19), ('live', 19), ('laes', 19), ('aluminum', 19), ('shrimp', 19), ('milk', 19), ('footwear', 19), ('albania', 18), ('burma', 18), ('congo', 18), ('ethiopia', 18), ('finland', 18), ('kuwait', 18), ('laos', 18), ('morocco', 18), ('mozambique', 18), ('north', 18), ('syria', 18), ('vietnam', 18), ('zimbabwe', 18), ('bis', 18), ('meal', 18), ('economic', 18), ('u', 18), ('energy', 18), ('pacific', 18), ('industry', 18), ('furniture', 18), ('yugoslav', 18), ('macedonia', 18), ('afesd', 18), ('czech', 18), ('slovakia', 18), ('pharmaceuticals', 18), ('rum', 18), ('reunion', 18), ('gypsum', 18), ('american', 17), ('benin', 17), ('chile', 17), ('cuba', 17), ('djibouti', 17), ('guyana', 17), ('honduras', 17), ('mauritania', 17), ('namibia', 17), ('nicaragua', 17), ('rwanda', 17), ('yemen', 17), ('asia', 17), ('serbia', 17), ('abeda', 17), ('amf', 17), ('accounts', 17), ('goats', 17), ('unomoz', 17), ('untso', 17), ('azerbaijan', 17), ('georgia', 17), ('gdp', 17), ('belarus', 17), ('eggs', 17), ('puerto', 17), ('rico', 17), ('phosphate', 17), ('andorra', 16), ('bangladesh', 16), ('botswana', 16), ('british', 16), ('burundi', 16), ('east', 16), ('guiana', 16), ('gabon', 16), ('ghana', 16), ('bissau', 16), ('ireland', 16), ('lebanon', 16), ('liberia', 16), ('malawi', 16), ('antilles', 16), ('oman', 16), ('panama', 16), ('paraguay', 16), ('somalia', 16), ('suriname', 16), ('togo', 16), ('tunisia', 16), ('opec', 16), ('forestry', 16), ('fertilizer', 16), ('montenegro', 16), ('sahara', 16), ('electrical', 16), ('olives', 16), ('manubgfacturing', 16), ('armenia', 16), ('tungsten', 16), ('land', 16), ('croatia', 16), ('negligible', 16), ('peanuts', 16), ('slovenia', 16), ('bahrain', 15), ('belize', 15), ('bhutan', 15), ('equatorial', 15), ('mauritius', 15), ('sierra', 15), ('leone', 15), ('sri', 15), ('lanka', 15), ('uruguay', 15), ('arab', 15), ('group', 15), ('mineral', 15), ('turkmenistan', 15), ('cp', 15), ('hides', 15), ('grains', 15), ('grapes', 15), ('spf', 15), ('foods', 15), ('assembly', 15), ('latvia', 15), ('potash', 15), ('territory', 15), ('machine', 15), ('barbados', 14), ('brunei', 14), ('dominican', 14), ('ecuador', 14), ('gambia', 14), ('gibraltar', 14), ('guadeloupe', 14), ('haiti', 14), ('iceland', 14), ('lesotho', 14), ('liechtenstein', 14), ('martinique', 14), ('nepal', 14), ('caledonia', 14), ('papua', 14), ('philippines', 14), ('qatar', 14), ('swaziland', 14), ('pork', 14), ('organisation', 14), ('cdb', 14), ('minurso', 14), ('lubricants', 14), ('include', 14), ('lithuania', 14), ('cambodia', 14), ('kyrgyzstan', 14), ('tajikistan', 14), ('fertilizers', 14), ('shipbuilding', 14), ('eritrea', 14), ('electric', 14), ('anguilla', 13), ('antigua', 13), ('bahamas', 13), ('bermuda', 13), ('cape', 13), ('verde', 13), ('cayman', 13), ('cyprus', 13), ('dominica', 13), ('grenada', 13), ('guam', 13), ('jamaica', 13), ('madagascar', 13), ('malta', 13), ('seychelles', 13), ('tonga', 13), ('vanuatu', 13), ('lumber', 13), ('world', 13), ('secretary', 13), ('state', 13), ('n', 13), ('pierre', 13), ('19', 13), ('net', 13), ('importer', 13), ('sweet', 13), ('cis', 13), ('processed', 13), ('sector', 13), ('ecowas', 13), ('bosnia', 13), ('million', 13), ('metric', 13), ('tons', 13), ('macau', 13), ('moldova', 13), ('norfolk', 13), ('aruba', 12), ('development', 12), ('european', 12), ('textile', 12), ('chairman', 12), ('kingdom', 12), ('shoes', 12), ('pigs', 12), ('laia', 12), ('herzegovina', 12), ('northern', 12), ('chemical', 12), ('apec', 12), ('millet', 12), ('cobalt', 12), ('mongolia', 12), ('polynesia', 12), ('comoros', 12), ('vanilla', 12), ('imports', 12), ('cook', 12), ('san', 12), ('wine', 12), ('cocom', 12), ('estonia', 12), ('trust', 12), ('guernsey', 12), ('sao', 12), ('tome', 12), ('asean', 11), ('oapec', 11), ('america', 11), ('pred_type', 11), ('nuts', 11), ('fsu', 11), ('chromium', 11), ('basic', 11), ('ceeac', 11), ('refined', 11), ('barbuda', 11), ('oecs', 11), ('rg', 11), ('machines', 11), ('banking', 11), ('including', 11), ('dc', 11), ('commercial', 11), ('weu', 11), ('marble', 11), ('beverage', 11), ('ferrous', 11), ('christmas', 11), ('cocos', 11), ('keeling', 11), ('7', 11), ('hogs', 11), ('gaza', 11), ('strip', 11), ('falkland', 11), ('islas', 11), ('malvinas', 11), ('faroe', 11), ('electronic', 11), ('jersey', 11), ('kiribati', 11), ('maldives', 11), ('man', 11), ('isle', 11), ('marshall', 11), ('mayotte', 11), ('micronesia', 11), ('federated', 11), ('montserrat', 11), ('nauru', 11), ('niue', 11), ('mariana', 11), ('palau', 11), ('pitcairn', 11), ('helena', 11), ('kitts', 11), ('nevis', 11), ('lucia', 11), ('miquelon', 11), ('vincent', 11), ('grenadines', 11), ('principe', 11), ('solomon', 11), ('tokelau', 11), ('turks', 11), ('caicos', 11), ('tuvalu', 11), ('emirates', 11), ('wallis', 11), ('futuna', 11), ('monaco', 10), ('uae', 10), ('mohammed', 10), ('codes', 10), ('association', 10), ('director', 10), ('soap', 10), ('bsec', 10), ('produces', 10), ('15', 10), ('onusal', 10), ('escwa', 10), ('washington', 10), ('unomur', 10), ('frg', 10), ('root', 10), ('mercury', 10), ('important', 10), ('sparteca', 10), ('tomatoes', 10), ('greenland', 10), ('power', 10), ('forests', 10), ('vatican', 9), ('baker', 9), ('mohammad', 9), ('l', 9), ('platinum', 9), ('plywood', 9), ('commission', 9), ('bourse', 9), ('p', 9), ('yams', 9), ('pineapples', 9), ('farming', 9), ('water', 9), ('sadc', 9), ('ocean', 9), ('sand', 9), ('metallurgy', 9), ('molybdenum', 9), ('mostly', 9), ('unomig', 9), ('pulp', 9), ('leather', 9), ('oils', 9), ('unrwa', 9), ('ceao', 9), ('antimony', 9), ('kernels', 9), ('eastern', 9), ('apparel', 9), ('caeu', 9), ('marino', 9), ('ussr', 8), ('efta', 8), ('gcc', 8), ('iea', 8), ('la', 8), ('f', 8), ('reserves', 8), ('e', 8), ('australian', 8), ('latin', 8), ('precious', 8), ('eco', 8), ('vegetable', 8), ('taro', 8), ('see', 8), ('climate', 8), ('output', 8), ('fertile', 8), ('alumina', 8), ('nea', 8), ('lignite', 8), ('offshore', 8), ('export', 8), ('cbss', 8), ('intermediate', 8), ('needs', 8), ('oilseeds', 8), ('milling', 8), ('shortages', 8), ('unifil', 8), ('atoll', 8), ('johnston', 7), ('li', 7), ('ship', 7), ('3', 7), ('items', 7), ('agency', 7), ('nations', 7), ('financial', 7), ('jose', 7), ('reserve', 7), ('resources', 7), ('military', 7), ('lobster', 7), ('marine', 7), ('bcie', 7), ('11', 7), ('mtcr', 7), ('durables', 7), ('nsg', 7), ('unficyp', 7), ('largest', 7), ('nonferrous', 7), ('co', 7), ('large', 7), ('arable', 7), ('saarc', 7), ('jute', 7), ('flour', 7), ('glass', 7), ('fresh', 7), ('wadb', 7), ('exports', 7), ('flowers', 7), ('middle', 7), ('automobiles', 7), ('pulses', 7), ('skins', 7), ('bdeac', 7), ('annual', 7), ('subsistence', 7), ('miscellaneous', 7), ('tools', 7), ('graphite', 7), ('holy', 7), ('city', 7), ('czechoslovakia', 6), ('ahmed', 6), ('kuo', 6), ('james', 6), ('lee', 6), ('jaffrey', 6), ('khan', 6), ('ali', 6), ('groundnut', 6), ('feed', 6), ('money', 6), ('oilseed', 6), ('tung', 6), ('topics', 6), ('national', 6), ('dollar', 6), ('franc', 6), ('format', 6), ('caribbean', 6), ('york', 6), ('also', 6), ('canned', 6), ('tuna', 6), ('manioc', 6), ('gravel', 6), ('petrochemicals', 6), ('exporter', 6), ('ad', 6), ('garments', 6), ('components', 6), ('da', 6), ('forest', 6), ('peat', 6), ('unmogip', 6), ('produce', 6), ('fls', 6), ('sacu', 6), ('main', 6), ('udeac', 6), ('nato', 6), ('kaolin', 6), ('ylang', 6), ('plastics', 6), ('asbestos', 6), ('clay', 6), ('cern', 6), ('igadd', 6), ('scale', 6), ('guano', 6), ('services', 6), ('port', 6), ('imported', 6), ('sulfur', 6), ('dates', 6), ('stamps', 6), ('semifinished', 6), ('bond', 5), ('madrid', 5), ('rape', 5), ('sun', 5), ('david', 5), ('9', 5), ('fields', 5), ('monetary', 5), ('exporting', 5), ('board', 5), ('london', 5), ('juan', 5), ('communist', 5), ('head', 5), ('mrs', 5), ('fisheries', 5), ('sulphur', 5), ('stones', 5), ('ho', 5), ('carpets', 5), ('gems', 5), ('mutton', 5), ('asphalt', 5), ('mo', 5), ('sisal', 5), ('beaches', 5), ('soils', 5), ('smelting', 5), ('less', 5), ('cigarettes', 5), ('ca', 5), ('must', 5), ('indian', 5), ('soil', 5), ('producer', 5), ('int', 5), ('vanadium', 5), ('unes', 5), ('wildlife', 5), ('rock', 5), ('esco', 5), ('diamond', 5), ('years', 5), ('security', 5), ('trusteeship', 5), ('brewing', 5), ('sea', 5), ('tropical', 5), ('automobile', 5), ('im', 5), ('unexploited', 5), ('cereals', 5), ('fats', 5), ('appliances', 5), ('fluorspar', 5), ('instruments', 5), ('svalbard', 5), ('yugoslavia', 4), ('adb', 4), ('eib', 4), ('ico', 4), ('iwc', 4), ('colombo', 4), ('del', 4), ('douglas', 4), ('king', 4), ('martin', 4), ('ibrahim', 4), ('romero', 4), ('castor', 4), ('fishmeal', 4), ('lin', 4), ('rye', 4), ('soy', 4), ('soybean', 4), ('categories', 4), ('list', 4), ('numbers', 4), ('commodity', 4), ('________________________________________________________________', 4), ('heading', 4), ('atomic', 4), ('community', 4), ('cooperation', 4), ('robert', 4), ('federal', 4), ('deputy', 4), ('carlos', 4), ('john', 4), ('party', 4), ('jacques', 4), ('planning', 4), ('variety', 4), ('semi', 4), ('electricity', 4), ('boat', 4), ('mangoes', 4), ('aggregates', 4), ('placer', 4), ('polymetallic', 4), ('nodules', 4), ('printing', 4), ('soybeans', 4), ('low', 4), ('canberra', 4), ('spar', 4), ('teca', 4), ('molasses', 4), ('engineering', 4), ('concrete', 4), ('fabrics', 4), ('import', 4), ('except', 4), ('cema', 4), ('wh', 4), ('hardwood', 4), ('provide', 4), ('telecommunications', 4), ('repair', 4), ('rolled', 4), ('cloves', 4), ('perfume', 4), ('jewelry', 4), ('lumbering', 4), ('coral', 4), ('ge', 4), ('rmany', 4), ('plastic', 4), ('mica', 4), ('articles', 4), ('nido', 4), ('ita', 4), ('ly', 4), ('pyrites', 4), ('republics', 4), ('crop', 4), ('exploited', 4), ('plantains', 4), ('acc', 4), ('yarn', 4), ('cacm', 4), ('almost', 4), ('motors', 4), ('especially', 4), ('aircraft', 4), ('lands', 4), ('dependent', 4), ('deepwater', 4), ('peppers', 4), ('toys', 4), ('howland', 4), ('finished', 4), ('titanium', 4), ('largely', 4), ('tu', 4), ('railroad', 4), ('chrome', 4), ('chickens', 4), ('precision', 4), ('share', 4), ('midway', 4), ('seed', 4), ('developing', 4), ('om', 4), ('wake', 4), ('coast', 3), ('abdel', 3), ('hadi', 3), ('kandeel', 3), ('alfonsin', 3), ('alhaji', 3), ('abdul', 3), ('alptemocin', 3), ('amato', 3), ('andersen', 3), ('andriessen', 3), ('aqazadeh', 3), ('aquino', 3), ('arafat', 3), ('babangida', 3), ('balladur', 3), ('bangemann', 3), ('barreto', 3), ('berge', 3), ('beteta', 3), ('blix', 3), ('boesky', 3), ('botha', 3), ('bouey', 3), ('braks', 3), ('bresser', 3), ('pereira', 3), ('brodersohn', 3), ('brundtland', 3), ('camdessus', 3), ('carlsson', 3), ('caro', 3), ('castelo', 3), ('branco', 3), ('castro', 3), ('cavaco', 3), ('silva', 3), ('chaves', 3), ('chen', 3), ('muhua', 3)]\n"
          ]
        }
      ]
    }
  ]
}